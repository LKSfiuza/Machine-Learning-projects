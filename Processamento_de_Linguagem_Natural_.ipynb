{
  "nbformat": 4,
  "nbformat_minor": 0,
  "metadata": {
    "colab": {
      "provenance": [],
      "authorship_tag": "ABX9TyNfdxlp8Vv8QinSAeQ310qL",
      "include_colab_link": true
    },
    "kernelspec": {
      "name": "python3",
      "display_name": "Python 3"
    },
    "language_info": {
      "name": "python"
    }
  },
  "cells": [
    {
      "cell_type": "markdown",
      "metadata": {
        "id": "view-in-github",
        "colab_type": "text"
      },
      "source": [
        "<a href=\"https://colab.research.google.com/github/LKSfiuza/Machine-Learning-projects/blob/main/Processamento_de_Linguagem_Natural_.ipynb\" target=\"_parent\"><img src=\"https://colab.research.google.com/assets/colab-badge.svg\" alt=\"Open In Colab\"/></a>"
      ]
    },
    {
      "cell_type": "markdown",
      "source": [
        "# Processamento de Linguagem Natural"
      ],
      "metadata": {
        "id": "M-uwnvvrf5sv"
      }
    },
    {
      "cell_type": "code",
      "source": [
        "import bs4 as bs\n",
        "import urllib.request\n",
        "import nltk\n",
        "import spacy"
      ],
      "metadata": {
        "id": "2CXm9fKqfdg_"
      },
      "execution_count": 2,
      "outputs": []
    },
    {
      "cell_type": "code",
      "source": [
        "!python3 -m spacy download pt\n",
        "!python -m spacy download pt_core_news_sm"
      ],
      "metadata": {
        "colab": {
          "base_uri": "https://localhost:8080/"
        },
        "id": "4qmMBshyfqCP",
        "outputId": "135b6190-1bcb-40aa-c588-07851fc281ed"
      },
      "execution_count": 6,
      "outputs": [
        {
          "output_type": "stream",
          "name": "stdout",
          "text": [
            "\u001b[38;5;3m⚠ As of spaCy v3.0, shortcuts like 'pt' are deprecated. Please use the\n",
            "full pipeline package name 'pt_core_news_sm' instead.\u001b[0m\n",
            "Collecting pt-core-news-sm==3.8.0\n",
            "  Downloading https://github.com/explosion/spacy-models/releases/download/pt_core_news_sm-3.8.0/pt_core_news_sm-3.8.0-py3-none-any.whl (13.0 MB)\n",
            "\u001b[2K     \u001b[90m━━━━━━━━━━━━━━━━━━━━━━━━━━━━━━━━━━━━━━━━\u001b[0m \u001b[32m13.0/13.0 MB\u001b[0m \u001b[31m39.7 MB/s\u001b[0m eta \u001b[36m0:00:00\u001b[0m\n",
            "\u001b[?25h\u001b[38;5;2m✔ Download and installation successful\u001b[0m\n",
            "You can now load the package via spacy.load('pt_core_news_sm')\n",
            "\u001b[38;5;3m⚠ Restart to reload dependencies\u001b[0m\n",
            "If you are in a Jupyter or Colab notebook, you may need to restart Python in\n",
            "order to load all the package's dependencies. You can do this by selecting the\n",
            "'Restart kernel' or 'Restart runtime' option.\n",
            "Collecting pt-core-news-sm==3.8.0\n",
            "  Downloading https://github.com/explosion/spacy-models/releases/download/pt_core_news_sm-3.8.0/pt_core_news_sm-3.8.0-py3-none-any.whl (13.0 MB)\n",
            "\u001b[2K     \u001b[90m━━━━━━━━━━━━━━━━━━━━━━━━━━━━━━━━━━━━━━━━\u001b[0m \u001b[32m13.0/13.0 MB\u001b[0m \u001b[31m33.2 MB/s\u001b[0m eta \u001b[36m0:00:00\u001b[0m\n",
            "\u001b[?25h\u001b[38;5;2m✔ Download and installation successful\u001b[0m\n",
            "You can now load the package via spacy.load('pt_core_news_sm')\n",
            "\u001b[38;5;3m⚠ Restart to reload dependencies\u001b[0m\n",
            "If you are in a Jupyter or Colab notebook, you may need to restart Python in\n",
            "order to load all the package's dependencies. You can do this by selecting the\n",
            "'Restart kernel' or 'Restart runtime' option.\n"
          ]
        }
      ]
    },
    {
      "cell_type": "markdown",
      "source": [
        "# Marcação POS"
      ],
      "metadata": {
        "id": "gTrYhve5f_hf"
      }
    },
    {
      "cell_type": "markdown",
      "source": [
        "POS ( part-of-speech ) atribui partes da fala a uma palavra, como substantivos, adjetivos, verbos\n",
        "\n",
        "Importante para a detecção de entidades no texto"
      ],
      "metadata": {
        "id": "hNdjygp0gEJr"
      }
    },
    {
      "cell_type": "code",
      "source": [
        "pln = spacy.load(\"pt_core_news_sm\")"
      ],
      "metadata": {
        "id": "aqbQo6ykf3WO"
      },
      "execution_count": 7,
      "outputs": []
    },
    {
      "cell_type": "code",
      "source": [
        "doc = pln(\"O gato dorme no sofá.\")\n",
        "\n",
        "for token in doc:\n",
        "    print(f\"{token.text:<12} {token.pos_:<10} {token.tag_:<10}\")"
      ],
      "metadata": {
        "colab": {
          "base_uri": "https://localhost:8080/"
        },
        "id": "vgLsGY8ohBUT",
        "outputId": "ccc24b78-9bb9-4b6c-eee3-a3a0251e1dc3"
      },
      "execution_count": 8,
      "outputs": [
        {
          "output_type": "stream",
          "name": "stdout",
          "text": [
            "O            DET        DET       \n",
            "gato         NOUN       NOUN      \n",
            "dorme        VERB       VERB      \n",
            "no           ADP        ADP       \n",
            "sofá         NOUN       NOUN      \n",
            ".            PUNCT      PUNCT     \n"
          ]
        }
      ]
    },
    {
      "cell_type": "markdown",
      "source": [
        "## Lematização e Stemização"
      ],
      "metadata": {
        "id": "5iwnjBGjimAb"
      }
    },
    {
      "cell_type": "markdown",
      "source": [
        "INDICA QUAL O RADICAL DAS PALAVRAS AFIM DE REDUZIR A DIMENSIONALIDADE"
      ],
      "metadata": {
        "id": "BiJEPlL5i4l1"
      }
    },
    {
      "cell_type": "code",
      "source": [
        "for token in doc:\n",
        "    print(f\"{token.text:<12} {token.lemma_:<10} {token.tag_:<10}\")"
      ],
      "metadata": {
        "colab": {
          "base_uri": "https://localhost:8080/"
        },
        "id": "vjx5Uf-rh-xI",
        "outputId": "509de6ec-9385-4d79-850a-4556eb3bc536"
      },
      "execution_count": 9,
      "outputs": [
        {
          "output_type": "stream",
          "name": "stdout",
          "text": [
            "O            o          DET       \n",
            "gato         gato       NOUN      \n",
            "dorme        dormar     VERB      \n",
            "no           em o       ADP       \n",
            "sofá         sofá       NOUN      \n",
            ".            .          PUNCT     \n"
          ]
        }
      ]
    },
    {
      "cell_type": "code",
      "source": [
        "doc2 = pln('encontrei encontraram encontrarão encontrariam cursando curso cursei')\n",
        "[token.lemma_ for token in doc2]"
      ],
      "metadata": {
        "colab": {
          "base_uri": "https://localhost:8080/"
        },
        "id": "t_lbYTYAi0uv",
        "outputId": "7bd69ff4-44c9-4d20-ccd3-2b9cdd75b5e5"
      },
      "execution_count": 10,
      "outputs": [
        {
          "output_type": "execute_result",
          "data": {
            "text/plain": [
              "['encontrar',\n",
              " 'encontrar',\n",
              " 'encontrar',\n",
              " 'encontrariar',\n",
              " 'cursar',\n",
              " 'curso',\n",
              " 'cursar']"
            ]
          },
          "metadata": {},
          "execution_count": 10
        }
      ]
    },
    {
      "cell_type": "markdown",
      "source": [
        "Stemização"
      ],
      "metadata": {
        "id": "qFM-J20Lj4JK"
      }
    },
    {
      "cell_type": "code",
      "source": [
        "import nltk\n",
        "nltk.download('rslp')"
      ],
      "metadata": {
        "colab": {
          "base_uri": "https://localhost:8080/"
        },
        "id": "yfnAOr3Vj_Zc",
        "outputId": "49d7d740-6c0b-46fe-82da-dfdd1433a57a"
      },
      "execution_count": 11,
      "outputs": [
        {
          "output_type": "stream",
          "name": "stderr",
          "text": [
            "[nltk_data] Downloading package rslp to /root/nltk_data...\n",
            "[nltk_data]   Unzipping stemmers/rslp.zip.\n"
          ]
        },
        {
          "output_type": "execute_result",
          "data": {
            "text/plain": [
              "True"
            ]
          },
          "metadata": {},
          "execution_count": 11
        }
      ]
    },
    {
      "cell_type": "code",
      "source": [
        "stemmer = nltk.stem.RSLPStemmer()\n",
        "stemmer.stem('gato')"
      ],
      "metadata": {
        "colab": {
          "base_uri": "https://localhost:8080/",
          "height": 35
        },
        "id": "Vg38VJlwj6tf",
        "outputId": "623837a8-74b5-4a81-d18e-5263ecf82af9"
      },
      "execution_count": 12,
      "outputs": [
        {
          "output_type": "execute_result",
          "data": {
            "text/plain": [
              "'gat'"
            ],
            "application/vnd.google.colaboratory.intrinsic+json": {
              "type": "string"
            }
          },
          "metadata": {},
          "execution_count": 12
        }
      ]
    },
    {
      "cell_type": "code",
      "source": [
        "for token in doc2:\n",
        "    print(f\"{token.text:<12} {token.lemma_:<12} {stemmer.stem(token.text):<10}\")"
      ],
      "metadata": {
        "colab": {
          "base_uri": "https://localhost:8080/"
        },
        "id": "fypLeOgXkQj1",
        "outputId": "380bd737-9144-443c-9856-8fc5539bea82"
      },
      "execution_count": 14,
      "outputs": [
        {
          "output_type": "stream",
          "name": "stdout",
          "text": [
            "encontrei    encontrar    encontr   \n",
            "encontraram  encontrar    encontr   \n",
            "encontrarão  encontrar    encontr   \n",
            "encontrariam encontrariar encontr   \n",
            "cursando     cursar       curs      \n",
            "curso        curso        curs      \n",
            "cursei       cursar       curs      \n"
          ]
        }
      ]
    },
    {
      "cell_type": "markdown",
      "source": [
        "## Carregamento dos textos"
      ],
      "metadata": {
        "id": "oWiYwSKKpl66"
      }
    },
    {
      "cell_type": "code",
      "source": [
        "dados = urllib.request.urlopen('https://pt.wikipedia.org/wiki/Intelig%C3%AAncia_artificial')"
      ],
      "metadata": {
        "id": "UNPWDRVCpkCB"
      },
      "execution_count": 18,
      "outputs": []
    },
    {
      "cell_type": "code",
      "source": [
        "dados = dados.read()\n"
      ],
      "metadata": {
        "id": "nl2SFI1-oXNh"
      },
      "execution_count": 19,
      "outputs": []
    },
    {
      "cell_type": "code",
      "source": [
        "dados_html = bs.BeautifulSoup(dados, 'lxml')"
      ],
      "metadata": {
        "id": "kuMGquniqHCT"
      },
      "execution_count": 20,
      "outputs": []
    },
    {
      "cell_type": "code",
      "source": [
        "paragrafo = dados_html.find_all('p')\n",
        "len(paragrafo)"
      ],
      "metadata": {
        "colab": {
          "base_uri": "https://localhost:8080/"
        },
        "id": "FaSX2As9qmlx",
        "outputId": "40f910d8-9ccf-4496-b4f3-1ceafd69c8fd"
      },
      "execution_count": 21,
      "outputs": [
        {
          "output_type": "execute_result",
          "data": {
            "text/plain": [
              "78"
            ]
          },
          "metadata": {},
          "execution_count": 21
        }
      ]
    },
    {
      "cell_type": "code",
      "source": [
        "conteudo = ''\n",
        "for p in paragrafo:\n",
        "    conteudo += p.text"
      ],
      "metadata": {
        "id": "yD-GtZ-fqpn3"
      },
      "execution_count": 22,
      "outputs": []
    },
    {
      "cell_type": "code",
      "source": [
        "len(conteudo)"
      ],
      "metadata": {
        "colab": {
          "base_uri": "https://localhost:8080/"
        },
        "id": "M2AiQ3O0rBKA",
        "outputId": "cc585663-c0f8-4d0a-ef37-5ff2262ec07a"
      },
      "execution_count": 24,
      "outputs": [
        {
          "output_type": "execute_result",
          "data": {
            "text/plain": [
              "41407"
            ]
          },
          "metadata": {},
          "execution_count": 24
        }
      ]
    },
    {
      "cell_type": "code",
      "source": [
        "conteudo = conteudo.lower()"
      ],
      "metadata": {
        "id": "qp9hyi2erCB-"
      },
      "execution_count": 25,
      "outputs": []
    },
    {
      "cell_type": "code",
      "source": [
        "string ='turing'\n",
        "token_pesquisa = pln(string)"
      ],
      "metadata": {
        "id": "56G0f5ahrOCl"
      },
      "execution_count": 27,
      "outputs": []
    },
    {
      "cell_type": "code",
      "source": [
        "pln.vocab"
      ],
      "metadata": {
        "colab": {
          "base_uri": "https://localhost:8080/"
        },
        "id": "EV2YKOi9r3d6",
        "outputId": "9599b7ee-7340-4eca-fb35-3d4ddefeff01"
      },
      "execution_count": 29,
      "outputs": [
        {
          "output_type": "execute_result",
          "data": {
            "text/plain": [
              "<spacy.vocab.Vocab at 0x7f87212824b0>"
            ]
          },
          "metadata": {},
          "execution_count": 29
        }
      ]
    },
    {
      "cell_type": "code",
      "source": [
        "from spacy.matcher import PhraseMatcher\n",
        "matcher = PhraseMatcher(pln.vocab)\n",
        "matcher.add('SEARCH', None, token_pesquisa)"
      ],
      "metadata": {
        "id": "EZtHQmQSrv3B"
      },
      "execution_count": 30,
      "outputs": []
    },
    {
      "cell_type": "code",
      "source": [
        "doc = pln(conteudo)\n",
        "matches = matcher(doc)\n",
        "matches"
      ],
      "metadata": {
        "colab": {
          "base_uri": "https://localhost:8080/"
        },
        "id": "fO_DBO7xr1vk",
        "outputId": "81faadb7-7d76-49d9-c8ba-beca153cdada"
      },
      "execution_count": 32,
      "outputs": [
        {
          "output_type": "execute_result",
          "data": {
            "text/plain": [
              "[(8661325627334373315, 131, 132),\n",
              " (8661325627334373315, 148, 149),\n",
              " (8661325627334373315, 166, 167),\n",
              " (8661325627334373315, 827, 828),\n",
              " (8661325627334373315, 836, 837),\n",
              " (8661325627334373315, 873, 874),\n",
              " (8661325627334373315, 1015, 1016),\n",
              " (8661325627334373315, 4270, 4271),\n",
              " (8661325627334373315, 4280, 4281),\n",
              " (8661325627334373315, 4436, 4437),\n",
              " (8661325627334373315, 4441, 4442),\n",
              " (8661325627334373315, 4447, 4448),\n",
              " (8661325627334373315, 4510, 4511),\n",
              " (8661325627334373315, 5007, 5008),\n",
              " (8661325627334373315, 6371, 6372),\n",
              " (8661325627334373315, 6419, 6420),\n",
              " (8661325627334373315, 6554, 6555),\n",
              " (8661325627334373315, 6649, 6650),\n",
              " (8661325627334373315, 6766, 6767)]"
            ]
          },
          "metadata": {},
          "execution_count": 32
        }
      ]
    },
    {
      "cell_type": "code",
      "source": [
        "doc[131:132]"
      ],
      "metadata": {
        "colab": {
          "base_uri": "https://localhost:8080/"
        },
        "id": "P9k4MsiGsez0",
        "outputId": "164d100c-b406-4e49-b735-76d7c417fc56"
      },
      "execution_count": 33,
      "outputs": [
        {
          "output_type": "execute_result",
          "data": {
            "text/plain": [
              "turing"
            ]
          },
          "metadata": {},
          "execution_count": 33
        }
      ]
    },
    {
      "cell_type": "code",
      "source": [
        "doc[6766:6767]"
      ],
      "metadata": {
        "colab": {
          "base_uri": "https://localhost:8080/"
        },
        "id": "kdwGUsHJs1EO",
        "outputId": "965b06c4-4b12-42a9-a9a4-0f327c4cc4f6"
      },
      "execution_count": 34,
      "outputs": [
        {
          "output_type": "execute_result",
          "data": {
            "text/plain": [
              "turing"
            ]
          },
          "metadata": {},
          "execution_count": 34
        }
      ]
    },
    {
      "cell_type": "code",
      "source": [
        "doc[6766-5:6767+5]"
      ],
      "metadata": {
        "colab": {
          "base_uri": "https://localhost:8080/"
        },
        "id": "pqeU0izss9lK",
        "outputId": "b41b4b68-ddc4-4da7-cf2b-9b953e3d1fd7"
      },
      "execution_count": 35,
      "outputs": [
        {
          "output_type": "execute_result",
          "data": {
            "text/plain": [
              "asiático a vencer o prêmio turing. entre suas contribuições para"
            ]
          },
          "metadata": {},
          "execution_count": 35
        }
      ]
    },
    {
      "cell_type": "code",
      "source": [
        "from IPython.core.display import HTML\n",
        "texto = ''\n",
        "numero_palavras = 50\n",
        "doc= pln(conteudo)\n",
        "matches = matcher(doc)\n",
        "\n",
        "display(HTML(f'<h1>{string.upper()}</h1>'))\n",
        "display(HTML(f'<p><strong>Resultados encontrados</strong>{len(matches)}</p>'))\n",
        "for i in matches:\n",
        "  inicio = i[1] - numero_palavras\n",
        "  if inicio < 0:\n",
        "    inicio = 0\n",
        "  texto = str(doc[inicio:i[2] + numero_palavras]).replace(string, f'<mark>{string}</mark>')\n",
        "  texto += '<br /><br />'\n",
        "  display(HTML(f'<p>{texto}</p>'))"
      ],
      "metadata": {
        "colab": {
          "base_uri": "https://localhost:8080/",
          "height": 1000
        },
        "id": "ZMbTXrs7taUr",
        "outputId": "75d3e501-1b18-4a86-d4b1-8bdff67f4c22"
      },
      "execution_count": 42,
      "outputs": [
        {
          "output_type": "display_data",
          "data": {
            "text/plain": [
              "<IPython.core.display.HTML object>"
            ],
            "text/html": [
              "<h1>TURING</h1>"
            ]
          },
          "metadata": {}
        },
        {
          "output_type": "display_data",
          "data": {
            "text/plain": [
              "<IPython.core.display.HTML object>"
            ],
            "text/html": [
              "<p><strong>Resultados encontrados</strong>19</p>"
            ]
          },
          "metadata": {}
        },
        {
          "output_type": "display_data",
          "data": {
            "text/plain": [
              "<IPython.core.display.HTML object>"
            ],
            "text/html": [
              "<p>pesquisa em ciência da computação que desenvolve e estuda métodos e softwares que permitem que as máquinas percebam seu ambiente e usem o aprendizado e a inteligência para tomar ações que maximizem suas chances de atingir objetivos definidos.[8] a ia iniciou na década de 1950 com os pesquisadores alan <mark>turing</mark> e herbert simon baseado no conceito do filósofo grego aristóteles.\n",
              "em 1950, allan <mark>turing</mark> escreveu sobre ser possível uma máquina pensar, e imitar o comportamento humano inteligente com perfeição. <mark>turing</mark> também esboçaou uma proposta de pesquisa para tornar isto possível.\n",
              "aplicações de ia<br /><br /></p>"
            ]
          },
          "metadata": {}
        },
        {
          "output_type": "display_data",
          "data": {
            "text/plain": [
              "<IPython.core.display.HTML object>"
            ],
            "text/html": [
              "<p>percebam seu ambiente e usem o aprendizado e a inteligência para tomar ações que maximizem suas chances de atingir objetivos definidos.[8] a ia iniciou na década de 1950 com os pesquisadores alan <mark>turing</mark> e herbert simon baseado no conceito do filósofo grego aristóteles.\n",
              "em 1950, allan <mark>turing</mark> escreveu sobre ser possível uma máquina pensar, e imitar o comportamento humano inteligente com perfeição. <mark>turing</mark> também esboçaou uma proposta de pesquisa para tornar isto possível.\n",
              "aplicações de ia incluem mecanismos avançados de busca na web (por exemplo, google search); sistemas de<br /><br /></p>"
            ]
          },
          "metadata": {}
        },
        {
          "output_type": "display_data",
          "data": {
            "text/plain": [
              "<IPython.core.display.HTML object>"
            ],
            "text/html": [
              "<p>atingir objetivos definidos.[8] a ia iniciou na década de 1950 com os pesquisadores alan <mark>turing</mark> e herbert simon baseado no conceito do filósofo grego aristóteles.\n",
              "em 1950, allan <mark>turing</mark> escreveu sobre ser possível uma máquina pensar, e imitar o comportamento humano inteligente com perfeição. <mark>turing</mark> também esboçaou uma proposta de pesquisa para tornar isto possível.\n",
              "aplicações de ia incluem mecanismos avançados de busca na web (por exemplo, google search); sistemas de recomendação (usados pelo youtube, amazon e netflix); assistentes virtuais (por exemplo, google<br /><br /></p>"
            ]
          },
          "metadata": {}
        },
        {
          "output_type": "display_data",
          "data": {
            "text/plain": [
              "<IPython.core.display.HTML object>"
            ],
            "text/html": [
              "<p>em substituir a mão-de-obra escrava por ferramentas autônomas, sendo esta possivelmente a primeira ideia de inteligência artificial relatada, que a ciência da computação exploraria muito tempo depois.[17] o desenvolvimento dessa ideia ocorreu plenamente no século xx, principalmente na década de 1950, com pensadores como allan <mark>turing</mark>, herbert simon e, john mccarthy. <mark>turing</mark> escreveu o artigo \"computing machinery and inteiligence\" sobre a possibilidade de uma máquina pensar e imitar o comportamento humano inteligente com tal perfeição, de forma que pudesse confundir ate um juiz humano.[18] <mark>turing</mark> também esboçou uma proposta<br /><br /></p>"
            ]
          },
          "metadata": {}
        },
        {
          "output_type": "display_data",
          "data": {
            "text/plain": [
              "<IPython.core.display.HTML object>"
            ],
            "text/html": [
              "<p>sendo esta possivelmente a primeira ideia de inteligência artificial relatada, que a ciência da computação exploraria muito tempo depois.[17] o desenvolvimento dessa ideia ocorreu plenamente no século xx, principalmente na década de 1950, com pensadores como allan <mark>turing</mark>, herbert simon e, john mccarthy. <mark>turing</mark> escreveu o artigo \"computing machinery and inteiligence\" sobre a possibilidade de uma máquina pensar e imitar o comportamento humano inteligente com tal perfeição, de forma que pudesse confundir ate um juiz humano.[18] <mark>turing</mark> também esboçou uma proposta de pesquisa para tornar possível.[18] inicialmente os teste<br /><br /></p>"
            ]
          },
          "metadata": {}
        },
        {
          "output_type": "display_data",
          "data": {
            "text/plain": [
              "<IPython.core.display.HTML object>"
            ],
            "text/html": [
              "<p>com pensadores como allan <mark>turing</mark>, herbert simon e, john mccarthy. <mark>turing</mark> escreveu o artigo \"computing machinery and inteiligence\" sobre a possibilidade de uma máquina pensar e imitar o comportamento humano inteligente com tal perfeição, de forma que pudesse confundir ate um juiz humano.[18] <mark>turing</mark> também esboçou uma proposta de pesquisa para tornar possível.[18] inicialmente os teste em ia foram repletos de sucessos – porém limitados devido o desempenho reduzido dos primeiros computadores - oque causava surpresa, foi o fato de um computador realizar atividade remotamente inteligente.[19]\n",
              "o sucesso inicial prosseguiu<br /><br /></p>"
            ]
          },
          "metadata": {}
        },
        {
          "output_type": "display_data",
          "data": {
            "text/plain": [
              "<IPython.core.display.HTML object>"
            ],
            "text/html": [
              "<p>quebra-cabeças com a qual podia lidar, verificou-se que a ordem em que os seres humanos abordavam os mesmos problemas.[20] desse modo, o gps talvez tenha sido o primeiro programa a incorporar a abordagem de “pensar de forma humana”.[20]\n",
              "em 1961, a proposta de <mark>turing</mark> voltou no artigo de herbert simon e allen newell no artigo \"the simulation of human thought\" sobre o teste de uma teoria de resolução humana de problemas.[18] esta teoria tenta explicar alguns aspectos dos processos mentais responsáveis pela inteligencia humana, um projeto de estudos  conhecido<br /><br /></p>"
            ]
          },
          "metadata": {}
        },
        {
          "output_type": "display_data",
          "data": {
            "text/plain": [
              "<IPython.core.display.HTML object>"
            ],
            "text/html": [
              "<p>as três leis da robótica.[42][43]\n",
              "stephen hawking alertou sobre os perigos da inteligência artificial e considerou uma ameaça à sobrevivência da humanidade[44] (ver: rebelião das máquinas).\n",
              "trata-se da noção de como lidar com problemas não determinísticos. uma contribuição prática de alan <mark>turing</mark> foi o que se chamou depois de teste de <mark>turing</mark> (tt),[45] de 1950: em lugar de responder à pergunta \"podem-se ter computadores inteligentes?\" ele formulou seu teste, que se tornou praticamente o ponto de partida da pesquisa em \"inteligência artificial\".[46]\n",
              "<br /><br /></p>"
            ]
          },
          "metadata": {}
        },
        {
          "output_type": "display_data",
          "data": {
            "text/plain": [
              "<IPython.core.display.HTML object>"
            ],
            "text/html": [
              "<p>sobre os perigos da inteligência artificial e considerou uma ameaça à sobrevivência da humanidade[44] (ver: rebelião das máquinas).\n",
              "trata-se da noção de como lidar com problemas não determinísticos. uma contribuição prática de alan <mark>turing</mark> foi o que se chamou depois de teste de <mark>turing</mark> (tt),[45] de 1950: em lugar de responder à pergunta \"podem-se ter computadores inteligentes?\" ele formulou seu teste, que se tornou praticamente o ponto de partida da pesquisa em \"inteligência artificial\".[46]\n",
              "o teste consiste em se fazer perguntas a uma pessoa<br /><br /></p>"
            ]
          },
          "metadata": {}
        },
        {
          "output_type": "display_data",
          "data": {
            "text/plain": [
              "<IPython.core.display.HTML object>"
            ],
            "text/html": [
              "<p>há um concurso anual de programas para o tt, e o resultado dos sistemas ganhadores é tão fraco (o último tem o nome \"ella\") que com poucas perguntas logo percebe-se as limitações das respostas da máquina. é interessante notar que tanto a máquina de <mark>turing</mark> quanto o teste de <mark>turing</mark> talvez derivem da visão que <mark>turing</mark> tinha de que o ser humano é uma máquina.\n",
              "há quem diga que essa visão está absolutamente errada, do ponto de vista linguístico, já que associamos à \"máquina\" um artefato inventado e eventualmente<br /><br /></p>"
            ]
          },
          "metadata": {}
        },
        {
          "output_type": "display_data",
          "data": {
            "text/plain": [
              "<IPython.core.display.HTML object>"
            ],
            "text/html": [
              "<p>programas para o tt, e o resultado dos sistemas ganhadores é tão fraco (o último tem o nome \"ella\") que com poucas perguntas logo percebe-se as limitações das respostas da máquina. é interessante notar que tanto a máquina de <mark>turing</mark> quanto o teste de <mark>turing</mark> talvez derivem da visão que <mark>turing</mark> tinha de que o ser humano é uma máquina.\n",
              "há quem diga que essa visão está absolutamente errada, do ponto de vista linguístico, já que associamos à \"máquina\" um artefato inventado e eventualmente construído. dizem eles:<br /><br /></p>"
            ]
          },
          "metadata": {}
        },
        {
          "output_type": "display_data",
          "data": {
            "text/plain": [
              "<IPython.core.display.HTML object>"
            ],
            "text/html": [
              "<p>o resultado dos sistemas ganhadores é tão fraco (o último tem o nome \"ella\") que com poucas perguntas logo percebe-se as limitações das respostas da máquina. é interessante notar que tanto a máquina de <mark>turing</mark> quanto o teste de <mark>turing</mark> talvez derivem da visão que <mark>turing</mark> tinha de que o ser humano é uma máquina.\n",
              "há quem diga que essa visão está absolutamente errada, do ponto de vista linguístico, já que associamos à \"máquina\" um artefato inventado e eventualmente construído. dizem eles: \"nenhum ser humano foi inventado<br /><br /></p>"
            ]
          },
          "metadata": {}
        },
        {
          "output_type": "display_data",
          "data": {
            "text/plain": [
              "<IPython.core.display.HTML object>"
            ],
            "text/html": [
              "<p>quem diga que essa visão está absolutamente errada, do ponto de vista linguístico, já que associamos à \"máquina\" um artefato inventado e eventualmente construído. dizem eles: \"nenhum ser humano foi inventado ou construído\". afirma-se ainda que a comparação, feita por <mark>turing</mark>, entre o homem e a máquina é sinônimo de sua \"ingenuidade social\", pois as máquinas são infinitamente mais simples do que o homem, apesar de, paradoxalmente, se afirmar que a vida é complexa. no entanto, esta linha de raciocínio é questionável<br /><br /></p>"
            ]
          },
          "metadata": {}
        },
        {
          "output_type": "display_data",
          "data": {
            "text/plain": [
              "<IPython.core.display.HTML object>"
            ],
            "text/html": [
              "<p>que ainda que uma máquina possa parecer falar chinês por meio de recursos de exame comparativo com mostras e tabelas de referência, binárias, isso não implica que tal máquina fale e entenda efetivamente a língua. ou seja, demonstrar que uma máquina possa passar no teste de <mark>turing</mark> não necessariamente implica um ser consciente, tal como entendido em seu sentido humano.[51] dreyfus, em seu livro o que os computadores ainda não conseguem fazer: uma crítica ao raciocínio artificial, argumenta que a consciência não pode ser adquirida por sistemas baseados em regras ou lógica<br /><br /></p>"
            ]
          },
          "metadata": {}
        },
        {
          "output_type": "display_data",
          "data": {
            "text/plain": [
              "<IPython.core.display.HTML object>"
            ],
            "text/html": [
              "<p>, mostrando a ampla gama de aplicações e o impacto profundo da ia em múltiplas áreas.\n",
              "atualmente existem diversos pesquisadores de ia ao redor do mundo em várias instituições e companhias de pesquisa. entre os muitos que fizeram contribuições significativas estão:\n",
              "o matemático britânico alan <mark>turing</mark> foi um dos homens de maior importância não só para seu tempo, como para a atualidade. com estudos que não só foram base para a existência da inteligência artificial, mas de quase todos os aparelhos eletrônicos já feitos. criou o “teste de <mark>turing</mark>”,<br /><br /></p>"
            ]
          },
          "metadata": {}
        },
        {
          "output_type": "display_data",
          "data": {
            "text/plain": [
              "<IPython.core.display.HTML object>"
            ],
            "text/html": [
              "<p>britânico alan <mark>turing</mark> foi um dos homens de maior importância não só para seu tempo, como para a atualidade. com estudos que não só foram base para a existência da inteligência artificial, mas de quase todos os aparelhos eletrônicos já feitos. criou o “teste de <mark>turing</mark>”, usado até hoje para descobrir o nível de inteligência de um programa de inteligência artificial. esse teste não foi criado para analisar a capacidade de um computador de pensar por si mesmo, já que as máquinas são completamente incapazes disso, mas sim de identificar o<br /><br /></p>"
            ]
          },
          "metadata": {}
        },
        {
          "output_type": "display_data",
          "data": {
            "text/plain": [
              "<IPython.core.display.HTML object>"
            ],
            "text/html": [
              "<p>considerado um dos primeiros homens a trabalhar no desenvolvimento da inteligência artificial e sempre disse que ela deveria interagir com o homem. nascido na cidade de boston, trabalhou na universidade de stanford e no massachusetts institute of technology (mit), além de ter vencido o prêmio <mark>turing</mark> em 1972 e a medalha nacional de ciência em 1991. já a programação lisp, uma das maiores conquistas de mccarthy, surgiu em 1958 e serviu para facilitar o desenvolvimento da inteligência artificial. a linguagem é das mais antigas ainda em uso e foi usada pela primeira<br /><br /></p>"
            ]
          },
          "metadata": {}
        },
        {
          "output_type": "display_data",
          "data": {
            "text/plain": [
              "<IPython.core.display.HTML object>"
            ],
            "text/html": [
              "<p>uso e foi usada pela primeira vez ao colocar um computador para jogar xadrez contra um adversário humano.\n",
              "natural de nova iorque, onde nasceu, o cientista recebeu diversos prémios internacionais pelo seu trabalho pioneiro no campo da inteligência artificial, incluindo em 1969, o prêmio <mark>turing</mark>, o maior prêmio em ciência informática. o cientista explorou a forma de dotar as máquinas de percepção e inteligência semelhantes à humana, criou mãos robóticas com capacidade para manipular objetos, desenvolveu novos marcos de programação e escreveu sobre assuntos filosóficos relacionados com a inteligência artificial.<br /><br /></p>"
            ]
          },
          "metadata": {}
        },
        {
          "output_type": "display_data",
          "data": {
            "text/plain": [
              "<IPython.core.display.HTML object>"
            ],
            "text/html": [
              "<p>a sua inteligência e via o cérebro como uma máquina cujo funcionamento pode ser estudado e reproduzido num computador, o que poderia ajudar a compreender melhor o cérebro humano e as funções mentais superiores.\n",
              "informático indiano naturalizado estadunidense, foi o primeiro asiático a vencer o prêmio <mark>turing</mark>. entre suas contribuições para a ia estão a criação do instituto de robótica da cmu e demonstrações de diversos sistemas que usam alguma forma de ia. entre esses sistemas, estão sistemas de: fala, controlados por voz, reconhecimento de voz, reconhecimento de voz independente<br /><br /></p>"
            ]
          },
          "metadata": {}
        }
      ]
    },
    {
      "cell_type": "code",
      "source": [],
      "metadata": {
        "id": "vv7nheTPu3Rs"
      },
      "execution_count": null,
      "outputs": []
    }
  ]
}